{
 "cells": [
  {
   "cell_type": "code",
   "execution_count": 1,
   "metadata": {},
   "outputs": [],
   "source": [
    "# Import Splinter, BeautifulSoup, and Pandas\n",
    "from splinter import Browser\n",
    "from bs4 import BeautifulSoup as soup\n",
    "import pandas as pd\n",
    "from webdriver_manager.chrome import ChromeDriverManager"
   ]
  },
  {
   "cell_type": "code",
   "execution_count": 2,
   "metadata": {},
   "outputs": [],
   "source": [
    "# Set up Splinter\n",
    "executable_path = {'executable_path': 'C:\\Program Files (x86)\\chromedriver'}\n",
    "browser = Browser('chrome', **executable_path, headless=False)"
   ]
  },
  {
   "cell_type": "markdown",
   "metadata": {},
   "source": [
    "# Visit the USDA food news site"
   ]
  },
  {
   "cell_type": "code",
   "execution_count": 3,
   "metadata": {},
   "outputs": [
    {
     "data": {
      "text/plain": [
       "True"
      ]
     },
     "execution_count": 3,
     "metadata": {},
     "output_type": "execute_result"
    }
   ],
   "source": [
    "# Visit the Mars news site\n",
    "url = 'https://www.ers.usda.gov/topics/food-choices-health/food-access'\n",
    "browser.visit(url)\n",
    "# Optional delay for loading the page\n",
    "browser.is_element_present_by_css('div.row', wait_time=1)"
   ]
  },
  {
   "cell_type": "code",
   "execution_count": 4,
   "metadata": {},
   "outputs": [],
   "source": [
    "# Convert the browser html to a soup object\n",
    "html = browser.html\n",
    "news_soup = soup(html, 'html.parser')\n",
    "\n",
    "slide_elem = news_soup.select_one('div.genericContent')"
   ]
  },
  {
   "cell_type": "code",
   "execution_count": 5,
   "metadata": {},
   "outputs": [
    {
     "data": {
      "text/plain": [
       "[<div class=\"genericContent\">\n",
       " <p>Consumer choices about food spending and diet are likely to be influenced by the accessibility and affordability of food retailers—travel time to shopping, availability of healthy foods, and food prices.  Some people and places, especially those with low income, may face greater barriers in accessing healthy and affordable food retailers, which may negatively affect diet and food security. </p>\n",
       " <p>ERS is a national leader in measuring the people and places facing barriers to accessing healthy and affordable food and conducts research examining the consequences of food access limitations on food spending, diet, and health. See:</p>\n",
       " <!-- BEGIN: PUBLICATION PICKER RENDERING -->\n",
       " <ul class=\"publication_list\">\n",
       " <li><a class=\"publication_link\" href=\"/publications/pub-details/?pubid=93140\">Understanding Low-Income and Low-Access Census Tracts Across the Nation: Subnational and Subpopulation Estimates of Access to Healthy Food</a></li>\n",
       " <li><a class=\"publication_link\" href=\"/publications/pub-details/?pubid=82100\">Low-Income and Low-Supermarket-Access Census Tracts, 2010-2015</a></li>\n",
       " <li><a class=\"publication_link\" href=\"/publications/pub-details/?pubid=45035\">Access to Affordable and Nutritious Food: Updated Estimates of Distance to Supermarkets Using 2010 Data</a></li>\n",
       " <li><a class=\"publication_link\" href=\"/publications/pub-details/?pubid=42729\">Access to Affordable and Nutritious Food-Measuring and Understanding Food Deserts and Their Consequences: Report to Congress</a></li>\n",
       " </ul>\n",
       " <!-- END: PUBLICATION PICKER RENDERING -->\n",
       " <p>ERS conducts economic analyses of:</p>\n",
       " <ul>\n",
       " <li>the extent and characteristics of people and places that lack access to healthy and affordable foods, and</li>\n",
       " <li>the relationships between food access and food shopping and spending patterns, diet and health.</li>\n",
       " </ul>\n",
       " <p>ERS also provides publicly available mapping tools for indicators of the food environment that allow users to create maps and download data—the <a href=\"/data-products/food-environment-atlas/\">Food Environment Atlas</a> and the <a href=\"/data-products/food-access-research-atlas/\">Food Access Research Atlas</a>.</p>\n",
       " </div>]"
      ]
     },
     "execution_count": 5,
     "metadata": {},
     "output_type": "execute_result"
    }
   ],
   "source": [
    "slide_elem.find_all('div', class_='genericContent')"
   ]
  },
  {
   "cell_type": "code",
   "execution_count": 6,
   "metadata": {},
   "outputs": [
    {
     "data": {
      "text/plain": [
       "'Food Access'"
      ]
     },
     "execution_count": 6,
     "metadata": {},
     "output_type": "execute_result"
    }
   ],
   "source": [
    "# Use the parent element to find the first a tag and save it as `news_title`\n",
    "news_title = slide_elem.find('h1').get_text()\n",
    "news_title"
   ]
  },
  {
   "cell_type": "code",
   "execution_count": 7,
   "metadata": {},
   "outputs": [
    {
     "data": {
      "text/plain": [
       "'Consumer choices about food spending and diet are likely to be influenced by the accessibility and affordability of food retailers—travel time to shopping, availability of healthy foods, and food prices.\\xa0 Some people and places, especially those with low income, may face greater barriers in accessing healthy and affordable food retailers, which may negatively affect diet and food security.\\xa0'"
      ]
     },
     "execution_count": 7,
     "metadata": {},
     "output_type": "execute_result"
    }
   ],
   "source": [
    "# Use the parent element to find the paragraph text\n",
    "news_p = slide_elem.find('p').get_text()\n",
    "news_p"
   ]
  },
  {
   "cell_type": "code",
   "execution_count": 8,
   "metadata": {},
   "outputs": [],
   "source": [
    "browser.quit()"
   ]
  },
  {
   "cell_type": "code",
   "execution_count": null,
   "metadata": {},
   "outputs": [],
   "source": []
  },
  {
   "cell_type": "code",
   "execution_count": null,
   "metadata": {},
   "outputs": [],
   "source": []
  },
  {
   "cell_type": "code",
   "execution_count": null,
   "metadata": {},
   "outputs": [],
   "source": []
  }
 ],
 "metadata": {
  "kernelspec": {
   "display_name": "Python 3",
   "language": "python",
   "name": "python3"
  },
  "language_info": {
   "codemirror_mode": {
    "name": "ipython",
    "version": 3
   },
   "file_extension": ".py",
   "mimetype": "text/x-python",
   "name": "python",
   "nbconvert_exporter": "python",
   "pygments_lexer": "ipython3",
   "version": "3.8.5"
  }
 },
 "nbformat": 4,
 "nbformat_minor": 4
}
